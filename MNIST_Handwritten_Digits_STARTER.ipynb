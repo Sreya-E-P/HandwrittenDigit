{
  "cells": [
    {
      "cell_type": "markdown",
      "metadata": {
        "id": "jJU1OLHJhBeC"
      },
      "source": [
        "# Introduction\n",
        "\n",
        "In this project, you will build a neural network of your own design to evaluate the MNIST dataset.\n",
        "\n",
        "Some of the benchmark results on MNIST include can be found [on Yann LeCun's page](https://webcache.googleusercontent.com/search?q=cache:stAVPik6onEJ:yann.lecun.com/exdb/mnist) and include:\n",
        "\n",
        "88% [Lecun et al., 1998](https://hal.science/hal-03926082/document)\n",
        "\n",
        "95.3% [Lecun et al., 1998](https://hal.science/hal-03926082v1/document)\n",
        "\n",
        "99.65% [Ciresan et al., 2011](http://people.idsia.ch/~juergen/ijcai2011.pdf)\n",
        "\n",
        "\n",
        "MNIST is a great dataset for sanity checking your models, since the accuracy levels achieved by large convolutional neural networks and small linear models are both quite high. This makes it important to be familiar with the data.\n",
        "\n",
        "## Installation"
      ]
    },
    {
      "cell_type": "code",
      "execution_count": 1,
      "metadata": {
        "id": "ZMV7Amr9hBeG"
      },
      "outputs": [],
      "source": [
        "# Update the PATH to include the user installation directory.\n",
        "import os\n",
        "os.environ['PATH'] = f\"{os.environ['PATH']}:/root/.local/bin\"\n",
        "\n",
        "# Restart the Kernel before you move on to the next step."
      ]
    },
    {
      "cell_type": "markdown",
      "metadata": {
        "id": "d64rKKQOhBeH"
      },
      "source": [
        "#### Important: Restart the Kernel before you move on to the next step."
      ]
    },
    {
      "cell_type": "code",
      "execution_count": 2,
      "metadata": {
        "colab": {
          "base_uri": "https://localhost:8080/"
        },
        "id": "NZhQKOKmhBeI",
        "outputId": "2bd27e8e-c077-40cf-a556-bd4b81a156db"
      },
      "outputs": [
        {
          "output_type": "stream",
          "name": "stdout",
          "text": [
            "\u001b[31mERROR: Could not open requirements file: [Errno 2] No such file or directory: 'requirements.txt'\u001b[0m\u001b[31m\n",
            "\u001b[0m"
          ]
        }
      ],
      "source": [
        "# Install requirements\n",
        "!python -m pip install -r requirements.txt"
      ]
    },
    {
      "cell_type": "markdown",
      "metadata": {
        "id": "_6o9yZsphBeI"
      },
      "source": [
        "## Imports"
      ]
    },
    {
      "cell_type": "code",
      "execution_count": 3,
      "metadata": {
        "id": "EVQCpsqChBeI"
      },
      "outputs": [],
      "source": [
        "## This cell contains the essential imports you will need – DO NOT CHANGE THE CONTENTS! ##\n",
        "import torch\n",
        "import torch.nn as nn\n",
        "import torch.nn.functional as F\n",
        "import torch.optim as optim\n",
        "import torchvision\n",
        "import torchvision.transforms as transforms\n",
        "import matplotlib.pyplot as plt\n",
        "import numpy as np"
      ]
    },
    {
      "cell_type": "code",
      "execution_count": 4,
      "metadata": {
        "colab": {
          "base_uri": "https://localhost:8080/"
        },
        "id": "ynnqTgSehBeS",
        "outputId": "b8e00a4d-b279-4e37-a47c-e61a96de8705"
      },
      "outputs": [
        {
          "output_type": "execute_result",
          "data": {
            "text/plain": [
              "device(type='cpu')"
            ]
          },
          "metadata": {},
          "execution_count": 4
        }
      ],
      "source": [
        "device = torch.device('cuda' if torch.cuda.is_available() else 'cpu')\n",
        "device"
      ]
    },
    {
      "cell_type": "markdown",
      "metadata": {
        "id": "k_LeFS6IhBeT"
      },
      "source": [
        "## Load the Dataset\n",
        "\n",
        "Specify your transforms as a list if you intend to .\n",
        "The transforms module is already loaded as `transforms`.\n",
        "\n",
        "MNIST is fortunately included in the torchvision module.\n",
        "Then, you can create your dataset using the `MNIST` object from `torchvision.datasets` ([the documentation is available here](https://pytorch.org/vision/stable/datasets.html#mnist)).\n",
        "Make sure to specify `download=True`!\n",
        "\n",
        "Once your dataset is created, you'll also need to define a `DataLoader` from the `torch.utils.data` module for both the train and the test set."
      ]
    },
    {
      "cell_type": "code",
      "execution_count": 5,
      "metadata": {
        "colab": {
          "base_uri": "https://localhost:8080/"
        },
        "id": "yLHvzKF7hBeT",
        "outputId": "8953010c-b870-49e2-8d00-07eb206e0a1e"
      },
      "outputs": [
        {
          "output_type": "stream",
          "name": "stdout",
          "text": [
            "Downloading http://yann.lecun.com/exdb/mnist/train-images-idx3-ubyte.gz\n",
            "Failed to download (trying next):\n",
            "HTTP Error 403: Forbidden\n",
            "\n",
            "Downloading https://ossci-datasets.s3.amazonaws.com/mnist/train-images-idx3-ubyte.gz\n",
            "Downloading https://ossci-datasets.s3.amazonaws.com/mnist/train-images-idx3-ubyte.gz to data/MNIST/raw/train-images-idx3-ubyte.gz\n"
          ]
        },
        {
          "output_type": "stream",
          "name": "stderr",
          "text": [
            "100%|██████████| 9912422/9912422 [00:01<00:00, 5796847.80it/s]\n"
          ]
        },
        {
          "output_type": "stream",
          "name": "stdout",
          "text": [
            "Extracting data/MNIST/raw/train-images-idx3-ubyte.gz to data/MNIST/raw\n",
            "\n",
            "Downloading http://yann.lecun.com/exdb/mnist/train-labels-idx1-ubyte.gz\n",
            "Failed to download (trying next):\n",
            "HTTP Error 403: Forbidden\n",
            "\n",
            "Downloading https://ossci-datasets.s3.amazonaws.com/mnist/train-labels-idx1-ubyte.gz\n",
            "Downloading https://ossci-datasets.s3.amazonaws.com/mnist/train-labels-idx1-ubyte.gz to data/MNIST/raw/train-labels-idx1-ubyte.gz\n"
          ]
        },
        {
          "output_type": "stream",
          "name": "stderr",
          "text": [
            "100%|██████████| 28881/28881 [00:00<00:00, 152125.29it/s]\n"
          ]
        },
        {
          "output_type": "stream",
          "name": "stdout",
          "text": [
            "Extracting data/MNIST/raw/train-labels-idx1-ubyte.gz to data/MNIST/raw\n",
            "\n",
            "Downloading http://yann.lecun.com/exdb/mnist/t10k-images-idx3-ubyte.gz\n",
            "Failed to download (trying next):\n",
            "HTTP Error 403: Forbidden\n",
            "\n",
            "Downloading https://ossci-datasets.s3.amazonaws.com/mnist/t10k-images-idx3-ubyte.gz\n",
            "Downloading https://ossci-datasets.s3.amazonaws.com/mnist/t10k-images-idx3-ubyte.gz to data/MNIST/raw/t10k-images-idx3-ubyte.gz\n"
          ]
        },
        {
          "output_type": "stream",
          "name": "stderr",
          "text": [
            "100%|██████████| 1648877/1648877 [00:01<00:00, 1240241.22it/s]\n"
          ]
        },
        {
          "output_type": "stream",
          "name": "stdout",
          "text": [
            "Extracting data/MNIST/raw/t10k-images-idx3-ubyte.gz to data/MNIST/raw\n",
            "\n",
            "Downloading http://yann.lecun.com/exdb/mnist/t10k-labels-idx1-ubyte.gz\n",
            "Failed to download (trying next):\n",
            "HTTP Error 403: Forbidden\n",
            "\n",
            "Downloading https://ossci-datasets.s3.amazonaws.com/mnist/t10k-labels-idx1-ubyte.gz\n",
            "Downloading https://ossci-datasets.s3.amazonaws.com/mnist/t10k-labels-idx1-ubyte.gz to data/MNIST/raw/t10k-labels-idx1-ubyte.gz\n"
          ]
        },
        {
          "output_type": "stream",
          "name": "stderr",
          "text": [
            "100%|██████████| 4542/4542 [00:00<00:00, 2871650.40it/s]"
          ]
        },
        {
          "output_type": "stream",
          "name": "stdout",
          "text": [
            "Extracting data/MNIST/raw/t10k-labels-idx1-ubyte.gz to data/MNIST/raw\n",
            "\n"
          ]
        },
        {
          "output_type": "stream",
          "name": "stderr",
          "text": [
            "\n"
          ]
        }
      ],
      "source": [
        "# Define transforms\n",
        "transform = transforms.Compose([transforms.ToTensor(), transforms.Normalize((0.5), (0.5))])\n",
        "\n",
        "# Create training set and define training dataloader\n",
        "## YOUR CODE HERE ##\n",
        "train_data = torchvision.datasets.MNIST(root=\"data\", train=True, download=True, transform=transform)\n",
        "\n",
        "# Create test set and define test dataloader\n",
        "## YOUR CODE HERE ##\n",
        "test_data = torchvision.datasets.MNIST(root=\"data\", train= False, download=True, transform=transform)\n"
      ]
    },
    {
      "cell_type": "code",
      "execution_count": 6,
      "metadata": {
        "id": "bjvmg3pVhBeU"
      },
      "outputs": [],
      "source": [
        "#DataLoader\n",
        "train_loader = torch.utils.data.DataLoader(dataset=train_data, batch_size=64, shuffle=True)\n",
        "test_loader = torch.utils.data.DataLoader(dataset=test_data, batch_size=64, shuffle=False)"
      ]
    },
    {
      "cell_type": "markdown",
      "metadata": {
        "id": "g_7MHwUQhBeU"
      },
      "source": [
        "## Justify your preprocessing\n",
        "\n",
        "In your own words, why did you choose the transforms you chose? If you didn't use any preprocessing steps, why not?"
      ]
    },
    {
      "cell_type": "markdown",
      "metadata": {
        "id": "v_AGBnWLhBeU"
      },
      "source": [
        "**By combining these transformations into a Compose pipeline, we efficiently preprocess the input data, preparing it for training while also enhancing the training process by standardizing the input distribution. This preprocessing approach contributes to more stable and effective training of neural network models, ultimately leading to improved performance and generalization ability on unseen data.**"
      ]
    },
    {
      "cell_type": "markdown",
      "metadata": {
        "id": "kteegVkIhBeU"
      },
      "source": [
        "## Explore the Dataset\n",
        "Using matplotlib, numpy, and torch, explore the dimensions of your data.\n",
        "\n",
        "You can view images using the `show5` function defined below – it takes a data loader as an argument.\n",
        "Remember that normalized images will look really weird to you! You may want to try changing your transforms to view images.\n",
        "Typically using no transforms other than `toTensor()` works well for viewing – but not as well for training your network.\n",
        "If `show5` doesn't work, go back and check your code for creating your data loaders and your training/test sets."
      ]
    },
    {
      "cell_type": "code",
      "execution_count": 7,
      "metadata": {
        "id": "PjaELSRohBeU"
      },
      "outputs": [],
      "source": [
        "## This cell contains a function for showing 5 images from a dataloader – DO NOT CHANGE THE CONTENTS! ##\n",
        "def show5(img_loader):\n",
        "    dataiter = iter(img_loader)\n",
        "\n",
        "    batch = next(dataiter)\n",
        "    labels = batch[1][0:5]\n",
        "    images = batch[0][0:5]\n",
        "    for i in range(5):\n",
        "        print(int(labels[i].detach()))\n",
        "\n",
        "        image = images[i].numpy()\n",
        "        plt.imshow(image.T.squeeze().T)\n",
        "        plt.show()"
      ]
    },
    {
      "cell_type": "code",
      "execution_count": 8,
      "metadata": {
        "colab": {
          "base_uri": "https://localhost:8080/"
        },
        "id": "C0p4y53xhBeU",
        "outputId": "773a9fd5-139f-4f83-ca05-77dc994e49cd"
      },
      "outputs": [
        {
          "output_type": "stream",
          "name": "stdout",
          "text": [
            "Number of training samples: 60000\n",
            "Image shape: torch.Size([1, 28, 28])\n",
            "Number of classes: 10\n"
          ]
        }
      ],
      "source": [
        "# Explore data\n",
        "## YOUR CODE HERE ##\n",
        "# Get the size of the training dataset\n",
        "num_train_samples = len(train_data)\n",
        "print(\"Number of training samples:\", num_train_samples)\n",
        "\n",
        "# Get the shape of the images in the dataset\n",
        "image_shape = train_data[0][0].size()\n",
        "print(\"Image shape:\", image_shape)\n",
        "\n",
        "# Get the number of classes in the dataset\n",
        "num_classes = len(train_data.classes)\n",
        "print(\"Number of classes:\", num_classes)"
      ]
    },
    {
      "cell_type": "markdown",
      "metadata": {
        "id": "AENbwQ3jhBeU"
      },
      "source": [
        "## Build your Neural Network\n",
        "Using the layers in `torch.nn` (which has been imported as `nn`) and the `torch.nn.functional` module (imported as `F`), construct a neural network based on the parameters of the dataset.\n",
        "Use any architecture you like.\n",
        "\n",
        "*Note*: If you did not flatten your tensors in your transforms or as part of your preprocessing and you are using only `Linear` layers, make sure to use the `Flatten` layer in your network!"
      ]
    },
    {
      "cell_type": "code",
      "execution_count": 9,
      "metadata": {
        "colab": {
          "base_uri": "https://localhost:8080/"
        },
        "id": "qti2cz0OhBeV",
        "outputId": "ba8909b7-3c2d-46cf-d671-0f4cdee007e5"
      },
      "outputs": [
        {
          "output_type": "execute_result",
          "data": {
            "text/plain": [
              "Net(\n",
              "  (fc1): Linear(in_features=784, out_features=120, bias=True)\n",
              "  (fc2): Linear(in_features=120, out_features=84, bias=True)\n",
              "  (fc3): Linear(in_features=84, out_features=10, bias=True)\n",
              ")"
            ]
          },
          "metadata": {},
          "execution_count": 9
        }
      ],
      "source": [
        "## YOUR CODE HERE ##\n",
        "class Net(nn.Module):\n",
        "    def __init__(self):\n",
        "        super(Net, self).__init__()\n",
        "        self.activation = F.relu\n",
        "        self.fc1 = nn.Linear(28 * 28 * 1, 120)\n",
        "        self.fc2 = nn.Linear(120, 84)\n",
        "        self.fc3 = nn.Linear(84, 10)\n",
        "\n",
        "    def forward(self, x):\n",
        "        x = torch.flatten(x, 1) # flatten all dimensions except batch\n",
        "        x = self.activation(self.fc1(x))\n",
        "        x = self.activation(self.fc2(x))\n",
        "        x = self.fc3(x)\n",
        "        return x\n",
        "#initialize\n",
        "net = Net()\n",
        "net.to(device)"
      ]
    },
    {
      "cell_type": "code",
      "execution_count": 10,
      "metadata": {
        "id": "oWcM-QcThBeV"
      },
      "outputs": [],
      "source": [
        "#visualize\n",
        "scripted = torch.jit.script(net)\n",
        "torch.jit.save(scripted, \"mnist_network.pt\")"
      ]
    },
    {
      "cell_type": "markdown",
      "metadata": {
        "id": "3XkWFZyzhBeV"
      },
      "source": [
        "Specify a loss function and an optimizer, and instantiate the model.\n",
        "\n",
        "If you use a less common loss function, please note why you chose that loss function in a comment."
      ]
    },
    {
      "cell_type": "code",
      "execution_count": 11,
      "metadata": {
        "id": "PgEtp7RKhBeV"
      },
      "outputs": [],
      "source": [
        "## YOUR CODE HERE ##\n",
        "#loss function\n",
        "criterion = nn.CrossEntropyLoss()\n",
        "\n",
        "#specify optimizer\n",
        "optimizer = optim.Adam(net.parameters(), lr=0.001)"
      ]
    },
    {
      "cell_type": "markdown",
      "metadata": {
        "id": "Wl5iaB6mhBeV"
      },
      "source": [
        "## Running your Neural Network\n",
        "Use whatever method you like to train your neural network, and ensure you record the average loss at each epoch.\n",
        "Don't forget to use `torch.device()` and the `.to()` method for both your model and your data if you are using GPU!\n",
        "\n",
        "If you want to print your loss **during** each epoch, you can use the `enumerate` function and print the loss after a set number of batches. 250 batches works well for most people!"
      ]
    },
    {
      "cell_type": "code",
      "execution_count": 12,
      "metadata": {
        "scrolled": true,
        "colab": {
          "base_uri": "https://localhost:8080/"
        },
        "id": "HUOdedbVhBeV",
        "outputId": "588b4792-8250-473e-f388-40da37173318"
      },
      "outputs": [
        {
          "output_type": "stream",
          "name": "stdout",
          "text": [
            "Epoch 1 training accuracy: 0.88% training loss: 0.38770\n",
            "Epoch 1 validation accuracy: 0.94% validation loss: 0.21112\n",
            "Epoch 2 training accuracy: 0.94% training loss: 0.18886\n",
            "Epoch 2 validation accuracy: 0.96% validation loss: 0.14175\n",
            "Epoch 3 training accuracy: 0.96% training loss: 0.13632\n",
            "Epoch 3 validation accuracy: 0.95% validation loss: 0.14764\n",
            "Epoch 4 training accuracy: 0.97% training loss: 0.11069\n",
            "Epoch 4 validation accuracy: 0.97% validation loss: 0.10655\n",
            "Epoch 5 training accuracy: 0.97% training loss: 0.09338\n",
            "Epoch 5 validation accuracy: 0.96% validation loss: 0.12202\n",
            "Epoch 6 training accuracy: 0.97% training loss: 0.08262\n",
            "Epoch 6 validation accuracy: 0.96% validation loss: 0.11983\n",
            "Epoch 7 training accuracy: 0.98% training loss: 0.07258\n",
            "Epoch 7 validation accuracy: 0.97% validation loss: 0.10762\n",
            "Epoch 8 training accuracy: 0.98% training loss: 0.06543\n",
            "Epoch 8 validation accuracy: 0.97% validation loss: 0.09365\n",
            "Epoch 9 training accuracy: 0.98% training loss: 0.05814\n",
            "Epoch 9 validation accuracy: 0.97% validation loss: 0.09340\n",
            "Epoch 10 training accuracy: 0.98% training loss: 0.05434\n",
            "Epoch 10 validation accuracy: 0.97% validation loss: 0.09145\n"
          ]
        }
      ],
      "source": [
        "## YOUR CODE HERE ##\n",
        "#Number of epochs to train\n",
        "n_epochs = 10\n",
        "\n",
        "# Move model and data to GPU if available\n",
        "device = torch.device(\"cuda\" if torch.cuda.is_available() else \"cpu\")\n",
        "net.to(device)\n",
        "\n",
        "# Establish a list for our history\n",
        "train_loss_history = list()\n",
        "val_loss_history = list()\n",
        "\n",
        "for epoch in range(n_epochs):\n",
        "    net.train()\n",
        "    train_loss = 0.0\n",
        "    train_correct = 0\n",
        "    for i, data in enumerate(train_loader):\n",
        "        # data is a list of [inputs, labels]\n",
        "        inputs, labels = data\n",
        "\n",
        "        # Pass to GPU if available.\n",
        "        inputs, labels = inputs.to(device), labels.to(device)\n",
        "\n",
        "        optimizer.zero_grad()\n",
        "\n",
        "        outputs = net(inputs)\n",
        "        loss = criterion(outputs, labels)\n",
        "        loss.backward()\n",
        "        optimizer.step()\n",
        "\n",
        "        _, preds = torch.max(outputs.data, 1)\n",
        "        train_correct += (preds == labels).float().mean().item()\n",
        "        train_loss += loss.item()\n",
        "    print(f'Epoch {epoch + 1} training accuracy: {train_correct/len(train_loader):.2f}% training loss: {train_loss/len(train_loader):.5f}')\n",
        "    train_loss_history.append(train_loss/len(train_loader))\n",
        "\n",
        "\n",
        "    val_loss = 0.0\n",
        "    val_correct = 0\n",
        "    net.eval()\n",
        "    for inputs, labels in test_loader:\n",
        "        inputs, labels = inputs.to(device), labels.to(device)\n",
        "\n",
        "        outputs = net(inputs)\n",
        "        loss = criterion(outputs, labels)\n",
        "\n",
        "        _, preds = torch.max(outputs.data, 1)\n",
        "        val_correct += (preds == labels).float().mean().item()\n",
        "        val_loss += loss.item()\n",
        "    print(f'Epoch {epoch + 1} validation accuracy: {val_correct/len(test_loader):.2f}% validation loss: {val_loss/len(test_loader):.5f}')\n",
        "    val_loss_history.append(val_loss/len(test_loader))"
      ]
    },
    {
      "cell_type": "markdown",
      "metadata": {
        "id": "UxhaND6QhBeW"
      },
      "source": [
        "Plot the training loss (and validation loss/accuracy, if recorded)."
      ]
    },
    {
      "cell_type": "code",
      "execution_count": 13,
      "metadata": {
        "colab": {
          "base_uri": "https://localhost:8080/",
          "height": 927
        },
        "id": "XHZohnYHhBeW",
        "outputId": "78f45156-2864-4c1d-f707-33cd6db84d19"
      },
      "outputs": [
        {
          "output_type": "display_data",
          "data": {
            "text/plain": [
              "<Figure size 640x480 with 1 Axes>"
            ],
            "image/png": "[encoded data removed]"
          },
          "metadata": {}
        },
        {
          "output_type": "display_data",
          "data": {
            "text/plain": [
              "<Figure size 640x480 with 1 Axes>"
            ],
            "image/png": "[encoded data removed]"
          },
          "metadata": {}
        }
      ],
      "source": [
        "## YOUR CODE HERE ##\n",
        "# Plotting training loss\n",
        "plt.plot(train_loss_history, label='Training Loss')\n",
        "plt.xlabel('Epoch')\n",
        "plt.ylabel('Loss')\n",
        "plt.title('Training Loss')\n",
        "plt.legend()\n",
        "plt.show()\n",
        "\n",
        "# validation loss is recorded\n",
        "plt.plot(val_loss_history, label='Validation Loss')\n",
        "plt.xlabel('Epoch')\n",
        "plt.ylabel('Loss')\n",
        "plt.title('Validation Loss')\n",
        "plt.legend()\n",
        "plt.show()"
      ]
    },
    {
      "cell_type": "markdown",
      "metadata": {
        "id": "OKAYkY8yhBeW"
      },
      "source": [
        "## Testing your model\n",
        "Using the previously created `DataLoader` for the test set, compute the percentage of correct predictions using the highest probability prediction.\n",
        "\n",
        "If your accuracy is over 90%, great work, but see if you can push a bit further!\n",
        "If your accuracy is under 90%, you'll need to make improvements.\n",
        "Go back and check your model architecture, loss function, and optimizer to make sure they're appropriate for an image classification task."
      ]
    },
    {
      "cell_type": "code",
      "execution_count": 14,
      "metadata": {
        "colab": {
          "base_uri": "https://localhost:8080/"
        },
        "id": "QEbP6EbkhBeX",
        "outputId": "67eefe5c-1fb1-44d9-e700-fc6274419aff"
      },
      "outputs": [
        {
          "output_type": "stream",
          "name": "stdout",
          "text": [
            "Accuracy on the test set: 97.02%\n"
          ]
        }
      ],
      "source": [
        "## YOUR CODE HERE ##\n",
        "correct = 0\n",
        "total = 0\n",
        "\n",
        "# Set the model to evaluation mode\n",
        "net.eval()\n",
        "\n",
        "# Iterate over the test dataset\n",
        "for images, labels in test_loader:\n",
        "    images, labels = images.to(device), labels.to(device)\n",
        "\n",
        "    # Forward pass\n",
        "    outputs = net(images)\n",
        "\n",
        "    # Get predictions\n",
        "    _, predicted = torch.max(outputs.data, 1)\n",
        "\n",
        "    # Update total number of samples\n",
        "    total += labels.size(0)\n",
        "\n",
        "    # Update number of correct predictions\n",
        "    correct += (predicted == labels).sum().item()\n",
        "\n",
        "# Compute accuracy\n",
        "accuracy = 100 * correct / total\n",
        "\n",
        "print(f'Accuracy on the test set: {accuracy:.2f}%')"
      ]
    },
    {
      "cell_type": "markdown",
      "metadata": {
        "id": "36xJNebPhBeX"
      },
      "source": [
        "## Improving your model\n",
        "\n",
        "Once your model is done training, try tweaking your hyperparameters and training again below to improve your accuracy on the test set!"
      ]
    },
    {
      "cell_type": "code",
      "execution_count": null,
      "metadata": {
        "id": "tiJ75VlShBeX"
      },
      "outputs": [],
      "source": [
        "## YOUR CODE HERE ##"
      ]
    },
    {
      "cell_type": "markdown",
      "metadata": {
        "id": "KlS6qG0IhBeY"
      },
      "source": [
        "## Saving your model\n",
        "Using `torch.save`, save your model for future loading."
      ]
    },
    {
      "cell_type": "code",
      "execution_count": 15,
      "metadata": {
        "colab": {
          "base_uri": "https://localhost:8080/"
        },
        "id": "3-dDsSlIhBeY",
        "outputId": "bd2d2317-a280-4cec-9a5e-dcd01f416a38"
      },
      "outputs": [
        {
          "output_type": "stream",
          "name": "stdout",
          "text": [
            "Model saved to trained_model.pth\n"
          ]
        }
      ],
      "source": [
        "## YOUR CODE HERE ##\n",
        "# Define the file path where you want to save the model\n",
        "model_path = 'trained_model.pth'\n",
        "\n",
        "# Save the model\n",
        "torch.save(net.state_dict(), model_path)\n",
        "\n",
        "print(f'Model saved to {model_path}')"
      ]
    },
    {
      "cell_type": "code",
      "source": [
        "from google.colab import drive\n",
        "drive.mount('/content/drive')"
      ],
      "metadata": {
        "id": "CR6azmvvikXZ"
      },
      "execution_count": null,
      "outputs": []
    }
  ],
  "metadata": {
    "kernelspec": {
      "display_name": "Python 3",
      "language": "python",
      "name": "python3"
    },
    "language_info": {
      "codemirror_mode": {
        "name": "ipython",
        "version": 3
      },
      "file_extension": ".py",
      "mimetype": "text/x-python",
      "name": "python",
      "nbconvert_exporter": "python",
      "pygments_lexer": "ipython3",
      "version": "3.7.6"
    },
    "colab": {
      "provenance": []
    }
  },
  "nbformat": 4,
  "nbformat_minor": 0
}